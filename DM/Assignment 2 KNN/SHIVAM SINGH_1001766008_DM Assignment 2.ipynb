{
 "cells": [
  {
   "cell_type": "markdown",
   "metadata": {},
   "source": [
    "#  SHIVAM SINGH\n",
    "#  1001766008\n",
    "## Data Mining Assignment 02\n",
    "### k Nearest Neighbors"
   ]
  },
  {
   "cell_type": "code",
   "execution_count": 15,
   "metadata": {},
   "outputs": [],
   "source": [
    "import pandas as pd\n",
    "import numpy as np\n",
    "import os\n",
    "from collections import Counter\n",
    "from sklearn import preprocessing"
   ]
  },
  {
   "cell_type": "markdown",
   "metadata": {},
   "source": [
    "### Method returning kNN"
   ]
  },
  {
   "cell_type": "code",
   "execution_count": 16,
   "metadata": {},
   "outputs": [],
   "source": [
    "class KMeanClassifier():\n",
    "    def __init__(self, k, dataset, labels, normalized = True, distance_type = 'euclidean'):\n",
    "        self.k = k\n",
    "        if normalized:\n",
    "            self.dataset = self.normalize(pd.DataFrame(dataset))\n",
    "        else:\n",
    "            self.dataset = pd.DataFrame(dataset)\n",
    "\n",
    "        self.labels = labels\n",
    "        self.normalized = normalized\n",
    "        self.distance_type = distance_type\n",
    "    \n",
    "#Returning the Mode of k labels\n",
    "    def most_frequent(self, List): \n",
    "        occurence_count = Counter(List) \n",
    "        return occurence_count.most_common(1)[0][0] \n",
    "\n",
    "#Returning Euclidean Distance    \n",
    "    def euclidean(self, v1, v2):\n",
    "        euclidean_distance = np.sqrt(np.sum((np.array(v1)-np.array(v2))**2))\n",
    "        return euclidean_distance\n",
    "    \n",
    "#Returning Normalized Euclidean Distance        \n",
    "    def normalize(self, dataset):\n",
    "        for col_name in dataset:\n",
    "            dataset[col_name] = (dataset[col_name] - dataset[col_name].mean()) / dataset[col_name].std()\n",
    "        return dataset\n",
    "    \n",
    "#Finding Cosine Similarities\n",
    "    def cosine_similarity(self, a, b):\n",
    "#         Source Credit : https://skipperkongen.dk/2018/09/19/cosine-similarity-in-python/\n",
    "        # manually compute cosine similarity\n",
    "        dot = np.dot(a, b)\n",
    "        norma = np.linalg.norm(a)\n",
    "        normb = np.linalg.norm(b)\n",
    "        cos = dot / (norma * normb)\n",
    "        return cos\n",
    "\n",
    "    def test(self, dataset):\n",
    "        classes = []\n",
    "        if(self.normalized):\n",
    "            dataset = self.normalize(pd.DataFrame(dataset))\n",
    "        else:\n",
    "            dataset = pd.DataFrame(dataset)\n",
    "        for index, i in dataset.iterrows():\n",
    "            distances = []\n",
    "            smallest = []\n",
    "            smallest_pos = []\n",
    "            for index2, j in self.dataset.iterrows():\n",
    "                if self.distance_type.lower() == 'euclidean':\n",
    "                    dist = self.euclidean(i,j)\n",
    "                elif self.distance_type.lower() == 'cosine':\n",
    "                    dist = (1-self.cosine_similarity(i,j))\n",
    "                distances.append((self.labels[index2],dist))\n",
    "            distances.sort(key = lambda x: x[1])\n",
    "            k_elements = [i[0] for i in distances[0:self.k]]\n",
    "            classes.append(self.most_frequent(k_elements))\n",
    "        return np.array(classes)"
   ]
  },
  {
   "cell_type": "markdown",
   "metadata": {},
   "source": [
    "### Importing data and returning modified datasets"
   ]
  },
  {
   "cell_type": "code",
   "execution_count": 17,
   "metadata": {},
   "outputs": [],
   "source": [
    "def importData(file):\n",
    "    iris_dataset = pd.read_csv(file)\n",
    "    iris_dataset['species']=iris_dataset['class']\n",
    "    iris_dataset['class'] = preprocessing.LabelEncoder().fit_transform(iris_dataset['class'])\n",
    "\n",
    "    # Seperate dev and test data sets randomly\n",
    "    dev_set = iris_dataset.sample(frac = 0.75, random_state = 5)\n",
    "    test_set = iris_dataset.drop(dev_set.index)\n",
    "\n",
    "    # Seperate class and species from dev set\n",
    "    dev_set_class = dev_set.pop('class')\n",
    "    dev_set_species = dev_set.pop('species')\n",
    "\n",
    "    # Remove class and species from test set\n",
    "    test_set_class = test_set.pop('class')\n",
    "    test_set_species = test_set.pop('species')\n",
    "    \n",
    "    return dev_set,test_set,dev_set_class,dev_set_species,test_set_class,test_set_species\n"
   ]
  },
  {
   "cell_type": "markdown",
   "metadata": {},
   "source": [
    "### Implementing kNN for differernt values of k"
   ]
  },
  {
   "cell_type": "code",
   "execution_count": 18,
   "metadata": {},
   "outputs": [],
   "source": [
    "kvals = [1,3,5,7]\n",
    "methods = [('euclidean', True), ('euclidean',False), ('cosine', False)]\n",
    "labels = []\n",
    "accuracies = []\n",
    "kv = []\n",
    "for k in kvals:\n",
    "    for method,normalized in methods:\n",
    "        dev_set,test_set,dev_set_class,dev_set_species,test_set_class,test_set_species = importData(\"iris_data.csv\")\n",
    "\n",
    "        # develop KMeanClassifier with develop set, and k value\n",
    "        iris_knn_normalized_cosine = KMeanClassifier(k, dev_set, dev_set_class, normalized=normalized, distance_type = method)\n",
    "\n",
    "        # Test knn model with test dataset and get labels\n",
    "        y_pred_normalized_cosine = iris_knn_normalized_cosine.test(test_set)\n",
    "\n",
    "        # test_set_species turned to list to compare with predictor\n",
    "        y_true = np.array(test_set_class)\n",
    "\n",
    "        accuracies.append(sum(y_true==y_pred_normalized_cosine)/len(y_true))\n",
    "        label = method\n",
    "        if normalized == True:\n",
    "            label += '_normalized'\n",
    "        labels.append(label)\n",
    "        kv.append(k)"
   ]
  },
  {
   "cell_type": "code",
   "execution_count": 19,
   "metadata": {},
   "outputs": [
    {
     "name": "stdout",
     "output_type": "stream",
     "text": [
      "[0.868421052631579, 0.9473684210526315, 0.9736842105263158, 0.8947368421052632, 0.9473684210526315, 0.9473684210526315, 0.8947368421052632, 0.9473684210526315, 0.9736842105263158, 0.9210526315789473, 0.9473684210526315, 0.9736842105263158]\n",
      "['euclidean_normalized', 'euclidean', 'cosine', 'euclidean_normalized', 'euclidean', 'cosine', 'euclidean_normalized', 'euclidean', 'cosine', 'euclidean_normalized', 'euclidean', 'cosine']\n",
      "[1, 1, 1, 3, 3, 3, 5, 5, 5, 7, 7, 7]\n"
     ]
    }
   ],
   "source": [
    "print(accuracies)\n",
    "print(labels)\n",
    "print(kv)"
   ]
  },
  {
   "cell_type": "markdown",
   "metadata": {},
   "source": [
    "### Plotting Accuracies for all K values with different Distance Metrics"
   ]
  },
  {
   "cell_type": "code",
   "execution_count": 20,
   "metadata": {},
   "outputs": [
    {
     "data": {
      "image/png": "[encoded data removed]",
      "text/plain": [
       "<Figure size 432x288 with 1 Axes>"
      ]
     },
     "metadata": {},
     "output_type": "display_data"
    }
   ],
   "source": [
    "import seaborn as sns\n",
    "\n",
    "result_df = pd.DataFrame({'k': kv, 'accuracy': accuracies, 'method': labels})\n",
    "\n",
    "sns.set(style=\"white\")\n",
    "ax = sns.barplot(x=\"k\", y=\"accuracy\", hue=\"method\",palette='pastel', data=result_df)"
   ]
  },
  {
   "cell_type": "code",
   "execution_count": 21,
   "metadata": {},
   "outputs": [],
   "source": [
    "result_df_group_by_k = result_df.groupby('k', as_index=False).mean()\n",
    "result_df_group_by_k['k'] = result_df_group_by_k['k'].astype(str)"
   ]
  },
  {
   "cell_type": "markdown",
   "metadata": {},
   "source": [
    "# Testing the result for all k values\n",
    "- Best result obtained with k = 7"
   ]
  },
  {
   "cell_type": "code",
   "execution_count": 22,
   "metadata": {},
   "outputs": [
    {
     "data": {
      "text/plain": [
       "[(0.9, 1)]"
      ]
     },
     "execution_count": 22,
     "metadata": {},
     "output_type": "execute_result"
    },
    {
     "data": {
      "image/png": "[encoded data removed]",
      "text/plain": [
       "<Figure size 432x288 with 1 Axes>"
      ]
     },
     "metadata": {},
     "output_type": "display_data"
    }
   ],
   "source": [
    "sns.set(style=\"white\")\n",
    "ax = sns.barplot(x=\"k\", y=\"accuracy\", data=result_df_group_by_k)\n",
    "ax.set(ylim=(0.9, 1))"
   ]
  },
  {
   "cell_type": "code",
   "execution_count": 23,
   "metadata": {},
   "outputs": [],
   "source": [
    "result_df_group_by_method = result_df.groupby('method', as_index=False).mean()\n",
    "result_df_group_by_method['k'] = result_df_group_by_k['k'].astype(str)"
   ]
  },
  {
   "cell_type": "code",
   "execution_count": 24,
   "metadata": {},
   "outputs": [
    {
     "data": {
      "text/html": [
       "<div>\n",
       "<style scoped>\n",
       "    .dataframe tbody tr th:only-of-type {\n",
       "        vertical-align: middle;\n",
       "    }\n",
       "\n",
       "    .dataframe tbody tr th {\n",
       "        vertical-align: top;\n",
       "    }\n",
       "\n",
       "    .dataframe thead th {\n",
       "        text-align: right;\n",
       "    }\n",
       "</style>\n",
       "<table border=\"1\" class=\"dataframe\">\n",
       "  <thead>\n",
       "    <tr style=\"text-align: right;\">\n",
       "      <th></th>\n",
       "      <th>method</th>\n",
       "      <th>k</th>\n",
       "      <th>accuracy</th>\n",
       "    </tr>\n",
       "  </thead>\n",
       "  <tbody>\n",
       "    <tr>\n",
       "      <td>0</td>\n",
       "      <td>cosine</td>\n",
       "      <td>1</td>\n",
       "      <td>0.967105</td>\n",
       "    </tr>\n",
       "    <tr>\n",
       "      <td>1</td>\n",
       "      <td>euclidean</td>\n",
       "      <td>3</td>\n",
       "      <td>0.947368</td>\n",
       "    </tr>\n",
       "    <tr>\n",
       "      <td>2</td>\n",
       "      <td>euclidean_normalized</td>\n",
       "      <td>5</td>\n",
       "      <td>0.894737</td>\n",
       "    </tr>\n",
       "  </tbody>\n",
       "</table>\n",
       "</div>"
      ],
      "text/plain": [
       "                 method  k  accuracy\n",
       "0                cosine  1  0.967105\n",
       "1             euclidean  3  0.947368\n",
       "2  euclidean_normalized  5  0.894737"
      ]
     },
     "execution_count": 24,
     "metadata": {},
     "output_type": "execute_result"
    }
   ],
   "source": [
    "result_df_group_by_method"
   ]
  },
  {
   "cell_type": "markdown",
   "metadata": {},
   "source": [
    "# Testing Mean score of all methods\n",
    "- Best Method that we observe is cosine method"
   ]
  },
  {
   "cell_type": "code",
   "execution_count": 25,
   "metadata": {},
   "outputs": [
    {
     "data": {
      "text/plain": [
       "[(0.8, 1)]"
      ]
     },
     "execution_count": 25,
     "metadata": {},
     "output_type": "execute_result"
    },
    {
     "data": {
      "image/png": "[encoded data removed]",
      "text/plain": [
       "<Figure size 432x288 with 1 Axes>"
      ]
     },
     "metadata": {},
     "output_type": "display_data"
    }
   ],
   "source": [
    "sns.set(style=\"white\")\n",
    "ax = sns.barplot(x=\"method\", y=\"accuracy\", data=result_df_group_by_method)\n",
    "ax.set(ylim=(0.8, 1))"
   ]
  },
  {
   "cell_type": "markdown",
   "metadata": {},
   "source": [
    "# Best Method - Cosine\n",
    "## With k = 1, 5 or 7 "
   ]
  },
  {
   "cell_type": "code",
   "execution_count": 26,
   "metadata": {},
   "outputs": [
    {
     "data": {
      "text/plain": [
       "[(0.94, 0.98)]"
      ]
     },
     "execution_count": 26,
     "metadata": {},
     "output_type": "execute_result"
    },
    {
     "data": {
      "image/png": "[encoded data removed]",
      "text/plain": [
       "<Figure size 432x288 with 1 Axes>"
      ]
     },
     "metadata": {},
     "output_type": "display_data"
    }
   ],
   "source": [
    "result_cosine = result_df[result_df['method']=='cosine']\n",
    "sns.set(style=\"white\")\n",
    "ax = sns.barplot(x=\"k\", y=\"accuracy\", data=result_cosine)\n",
    "ax.set(ylim=(0.94, 0.98))"
   ]
  },
  {
   "cell_type": "markdown",
   "metadata": {},
   "source": [
    "# BEST RESULT "
   ]
  },
  {
   "cell_type": "code",
   "execution_count": 27,
   "metadata": {},
   "outputs": [
    {
     "name": "stdout",
     "output_type": "stream",
     "text": [
      "BEST RESULT\n",
      "k                  1\n",
      "accuracy    0.973684\n",
      "method        cosine\n",
      "Name: 2, dtype: object\n"
     ]
    }
   ],
   "source": [
    "# \n",
    "print('BEST RESULT')\n",
    "print(result_df.iloc[result_df['accuracy'].idxmax()])"
   ]
  },
  {
   "cell_type": "code",
   "execution_count": null,
   "metadata": {},
   "outputs": [],
   "source": []
  }
 ],
 "metadata": {
  "kernelspec": {
   "display_name": "Python 3",
   "language": "python",
   "name": "python3"
  },
  "language_info": {
   "codemirror_mode": {
    "name": "ipython",
    "version": 3
   },
   "file_extension": ".py",
   "mimetype": "text/x-python",
   "name": "python",
   "nbconvert_exporter": "python",
   "pygments_lexer": "ipython3",
   "version": "3.7.4"
  }
 },
 "nbformat": 4,
 "nbformat_minor": 2
}
